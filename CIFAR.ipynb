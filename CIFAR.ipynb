{
  "nbformat": 4,
  "nbformat_minor": 0,
  "metadata": {
    "colab": {
      "name": "CIFAR.ipynb",
      "provenance": [],
      "collapsed_sections": [],
      "include_colab_link": true
    },
    "kernelspec": {
      "name": "python3",
      "display_name": "Python 3"
    },
    "accelerator": "GPU"
  },
  "cells": [
    {
      "cell_type": "markdown",
      "metadata": {
        "id": "view-in-github",
        "colab_type": "text"
      },
      "source": [
        "<a href=\"https://colab.research.google.com/github/PranavPutsa1006/Deep-Learning/blob/main/CIFAR.ipynb\" target=\"_parent\"><img src=\"https://colab.research.google.com/assets/colab-badge.svg\" alt=\"Open In Colab\"/></a>"
      ]
    },
    {
      "cell_type": "code",
      "metadata": {
        "colab": {
          "base_uri": "https://localhost:8080/"
        },
        "id": "ipYX1zlveEDF",
        "outputId": "ebbfeb33-33ce-4340-fa0d-8391689af214"
      },
      "source": [
        "!nvidia-smi"
      ],
      "execution_count": null,
      "outputs": [
        {
          "output_type": "stream",
          "text": [
            "Sat Apr  3 07:09:15 2021       \n",
            "+-----------------------------------------------------------------------------+\n",
            "| NVIDIA-SMI 460.67       Driver Version: 460.32.03    CUDA Version: 11.2     |\n",
            "|-------------------------------+----------------------+----------------------+\n",
            "| GPU  Name        Persistence-M| Bus-Id        Disp.A | Volatile Uncorr. ECC |\n",
            "| Fan  Temp  Perf  Pwr:Usage/Cap|         Memory-Usage | GPU-Util  Compute M. |\n",
            "|                               |                      |               MIG M. |\n",
            "|===============================+======================+======================|\n",
            "|   0  Tesla T4            Off  | 00000000:00:04.0 Off |                    0 |\n",
            "| N/A   75C    P8    12W /  70W |      0MiB / 15109MiB |      0%      Default |\n",
            "|                               |                      |                  N/A |\n",
            "+-------------------------------+----------------------+----------------------+\n",
            "                                                                               \n",
            "+-----------------------------------------------------------------------------+\n",
            "| Processes:                                                                  |\n",
            "|  GPU   GI   CI        PID   Type   Process name                  GPU Memory |\n",
            "|        ID   ID                                                   Usage      |\n",
            "|=============================================================================|\n",
            "|  No running processes found                                                 |\n",
            "+-----------------------------------------------------------------------------+\n"
          ],
          "name": "stdout"
        }
      ]
    },
    {
      "cell_type": "code",
      "metadata": {
        "id": "2m0vZTaESjmW"
      },
      "source": [
        "import keras\n",
        "import numpy as np\n",
        "from sklearn.model_selection import train_test_split\n",
        "\n",
        "from keras.utils import np_utils\n",
        "from keras.datasets import mnist,cifar100\n",
        "from keras.applications import ResNet50\n",
        "from keras import Model\n",
        "\n",
        "import matplotlib.pyplot as plt"
      ],
      "execution_count": null,
      "outputs": []
    },
    {
      "cell_type": "code",
      "metadata": {
        "id": "eemu8zGtSjmh",
        "colab": {
          "base_uri": "https://localhost:8080/"
        },
        "outputId": "cd0fe6fa-4d45-463c-9a4a-476e14e168ea"
      },
      "source": [
        "# (X_train, y_train), (X_test, y_test) = mnist.load_data()\n",
        "(X_train, y_train), (X_test, y_test) = cifar100.load_data()"
      ],
      "execution_count": null,
      "outputs": [
        {
          "output_type": "stream",
          "text": [
            "Downloading data from https://www.cs.toronto.edu/~kriz/cifar-100-python.tar.gz\n",
            "169009152/169001437 [==============================] - 3s 0us/step\n"
          ],
          "name": "stdout"
        }
      ]
    },
    {
      "cell_type": "code",
      "metadata": {
        "id": "H15A1Z9TSjmj"
      },
      "source": [
        "# For CIFAR 100 Uncomment the following lines\n",
        "\n",
        "X_train = X_train.reshape(-1,32,32,3)\n",
        "X_test = X_test.reshape(-1,32,32,3)\n",
        "\n",
        "# X_train = X_train.reshape(-1, 28, 28, 1)\n",
        "# X_test = X_test.reshape(-1, 28, 28, 1)"
      ],
      "execution_count": null,
      "outputs": []
    },
    {
      "cell_type": "code",
      "metadata": {
        "id": "Cg_2G9d0Sjmm"
      },
      "source": [
        "X_train = X_train.astype('float32')\n",
        "X_test = X_test.astype('float32')"
      ],
      "execution_count": null,
      "outputs": []
    },
    {
      "cell_type": "code",
      "metadata": {
        "id": "Xkbzz-F0Sjmo"
      },
      "source": [
        "X_train = X_train / 255\n",
        "X_test = X_test / 255"
      ],
      "execution_count": null,
      "outputs": []
    },
    {
      "cell_type": "code",
      "metadata": {
        "id": "5yQUUWVgSjmq",
        "colab": {
          "base_uri": "https://localhost:8080/"
        },
        "outputId": "2ac4b5fb-3bd7-40e8-fbd7-af157895a979"
      },
      "source": [
        "y_trainOneHot = np_utils.to_categorical(y_train)\n",
        "y_testOneHot = np_utils.to_categorical(y_test)\n",
        "y_trainOneHot.shape, y_testOneHot.shape"
      ],
      "execution_count": null,
      "outputs": [
        {
          "output_type": "execute_result",
          "data": {
            "text/plain": [
              "((50000, 100), (10000, 100))"
            ]
          },
          "metadata": {
            "tags": []
          },
          "execution_count": 7
        }
      ]
    },
    {
      "cell_type": "code",
      "metadata": {
        "id": "ooijOtd4Sjmu"
      },
      "source": [
        "X_train, X_validate, y_label, y_validate = train_test_split(X_train, y_trainOneHot, test_size = 0.20, random_state = 101)"
      ],
      "execution_count": null,
      "outputs": []
    },
    {
      "cell_type": "code",
      "metadata": {
        "id": "z4cCFO5WSjmw"
      },
      "source": [
        "from keras.models import Sequential\n",
        "from keras.layers import Conv2D, MaxPooling2D, ZeroPadding2D\n",
        "from keras.layers import Dense, Flatten, Dropout, Activation\n",
        "from keras.layers.advanced_activations import LeakyReLU"
      ],
      "execution_count": null,
      "outputs": []
    },
    {
      "cell_type": "code",
      "metadata": {
        "id": "-Ty-Zs1BSjmy"
      },
      "source": [
        "model = Sequential()\n",
        "\n",
        "model.add(Conv2D(32, kernel_size = (3,3), activation = 'relu', input_shape = (32,32,3)))\n",
        "# model.add(Conv2D(32, kernel_size = (7,7), activation = 'relu', input_shape = (28, 28, 1)))\n",
        "model.add(MaxPooling2D(pool_size = (2,2)))\n",
        "model.add(Dropout(0.20))\n",
        "\n",
        "model.add(Conv2D(64, kernel_size = (3,3), activation = 'relu'))\n",
        "model.add(MaxPooling2D(pool_size = (2,2)))\n",
        "model.add(Dropout(0.20))\n",
        "\n",
        "model.add(Conv2D(128, kernel_size = (3,3), activation = 'relu'))\n",
        "model.add(MaxPooling2D(pool_size = (2,2)))\n",
        "model.add(Dropout(0.20))\n",
        "\n",
        "model.add(Flatten())\n",
        "\n",
        "model.add(Dense(256, activation = 'relu'))\n",
        "model.add(Dropout(0.20))\n",
        "# model.add(Dense(10, activation = 'softmax'))\n",
        "model.add(Dense(100,activation=\"softmax\"))"
      ],
      "execution_count": null,
      "outputs": []
    },
    {
      "cell_type": "code",
      "metadata": {
        "id": "rnzHtRnxSjm0",
        "colab": {
          "base_uri": "https://localhost:8080/"
        },
        "outputId": "3164126b-8353-4b97-edc9-8e939a4666a9"
      },
      "source": [
        "model.summary()"
      ],
      "execution_count": null,
      "outputs": [
        {
          "output_type": "stream",
          "text": [
            "Model: \"sequential_1\"\n",
            "_________________________________________________________________\n",
            "Layer (type)                 Output Shape              Param #   \n",
            "=================================================================\n",
            "conv2d_3 (Conv2D)            (None, 30, 30, 32)        896       \n",
            "_________________________________________________________________\n",
            "max_pooling2d_3 (MaxPooling2 (None, 15, 15, 32)        0         \n",
            "_________________________________________________________________\n",
            "dropout_4 (Dropout)          (None, 15, 15, 32)        0         \n",
            "_________________________________________________________________\n",
            "conv2d_4 (Conv2D)            (None, 13, 13, 64)        18496     \n",
            "_________________________________________________________________\n",
            "max_pooling2d_4 (MaxPooling2 (None, 6, 6, 64)          0         \n",
            "_________________________________________________________________\n",
            "dropout_5 (Dropout)          (None, 6, 6, 64)          0         \n",
            "_________________________________________________________________\n",
            "conv2d_5 (Conv2D)            (None, 4, 4, 128)         73856     \n",
            "_________________________________________________________________\n",
            "max_pooling2d_5 (MaxPooling2 (None, 2, 2, 128)         0         \n",
            "_________________________________________________________________\n",
            "dropout_6 (Dropout)          (None, 2, 2, 128)         0         \n",
            "_________________________________________________________________\n",
            "flatten_1 (Flatten)          (None, 512)               0         \n",
            "_________________________________________________________________\n",
            "dense_2 (Dense)              (None, 256)               131328    \n",
            "_________________________________________________________________\n",
            "dropout_7 (Dropout)          (None, 256)               0         \n",
            "_________________________________________________________________\n",
            "dense_3 (Dense)              (None, 100)               25700     \n",
            "=================================================================\n",
            "Total params: 250,276\n",
            "Trainable params: 250,276\n",
            "Non-trainable params: 0\n",
            "_________________________________________________________________\n"
          ],
          "name": "stdout"
        }
      ]
    },
    {
      "cell_type": "code",
      "metadata": {
        "id": "4sLEwLq-Sjm3"
      },
      "source": [
        "model.compile(loss='categorical_crossentropy', optimizer = keras.optimizers.Adam(lr=0.0001),metrics=['accuracy'])"
      ],
      "execution_count": null,
      "outputs": []
    },
    {
      "cell_type": "code",
      "metadata": {
        "id": "L0ZMHmkkSjm5",
        "colab": {
          "base_uri": "https://localhost:8080/"
        },
        "outputId": "823068fd-5012-46b8-b8a1-cd55c94d385e"
      },
      "source": [
        "my_callbacks = keras.callbacks.EarlyStopping(monitor=\"accuracy\",patience=2)\n",
        "history = model.fit(X_train, y_label, epochs = 2000, batch_size=32, validation_data=(X_validate, y_validate), callbacks=my_callbacks)"
      ],
      "execution_count": null,
      "outputs": [
        {
          "output_type": "stream",
          "text": [
            "Epoch 1/2000\n",
            "1250/1250 [==============================] - 9s 5ms/step - loss: 4.5525 - accuracy: 0.0173 - val_loss: 4.2750 - val_accuracy: 0.0434\n",
            "Epoch 2/2000\n",
            "1250/1250 [==============================] - 5s 4ms/step - loss: 4.2397 - accuracy: 0.0483 - val_loss: 3.9992 - val_accuracy: 0.1023\n",
            "Epoch 3/2000\n",
            "1250/1250 [==============================] - 5s 4ms/step - loss: 3.9772 - accuracy: 0.0944 - val_loss: 3.8135 - val_accuracy: 0.1306\n",
            "Epoch 4/2000\n",
            "1250/1250 [==============================] - 5s 4ms/step - loss: 3.8119 - accuracy: 0.1149 - val_loss: 3.7198 - val_accuracy: 0.1490\n",
            "Epoch 5/2000\n",
            "1250/1250 [==============================] - 5s 4ms/step - loss: 3.7199 - accuracy: 0.1290 - val_loss: 3.6097 - val_accuracy: 0.1638\n",
            "Epoch 6/2000\n",
            "1250/1250 [==============================] - 5s 4ms/step - loss: 3.6339 - accuracy: 0.1420 - val_loss: 3.5210 - val_accuracy: 0.1817\n",
            "Epoch 7/2000\n",
            "1250/1250 [==============================] - 5s 4ms/step - loss: 3.5666 - accuracy: 0.1554 - val_loss: 3.4413 - val_accuracy: 0.1917\n",
            "Epoch 8/2000\n",
            "1250/1250 [==============================] - 5s 4ms/step - loss: 3.4735 - accuracy: 0.1691 - val_loss: 3.3806 - val_accuracy: 0.2034\n",
            "Epoch 9/2000\n",
            "1250/1250 [==============================] - 5s 4ms/step - loss: 3.4248 - accuracy: 0.1806 - val_loss: 3.3131 - val_accuracy: 0.2131\n",
            "Epoch 10/2000\n",
            "1250/1250 [==============================] - 5s 4ms/step - loss: 3.3678 - accuracy: 0.1916 - val_loss: 3.2529 - val_accuracy: 0.2234\n",
            "Epoch 11/2000\n",
            "1250/1250 [==============================] - 5s 4ms/step - loss: 3.3114 - accuracy: 0.2002 - val_loss: 3.2114 - val_accuracy: 0.2336\n",
            "Epoch 12/2000\n",
            "1250/1250 [==============================] - 5s 4ms/step - loss: 3.2620 - accuracy: 0.2072 - val_loss: 3.1485 - val_accuracy: 0.2465\n",
            "Epoch 13/2000\n",
            "1250/1250 [==============================] - 5s 4ms/step - loss: 3.2073 - accuracy: 0.2178 - val_loss: 3.1378 - val_accuracy: 0.2473\n",
            "Epoch 14/2000\n",
            "1250/1250 [==============================] - 5s 4ms/step - loss: 3.1715 - accuracy: 0.2239 - val_loss: 3.0653 - val_accuracy: 0.2577\n",
            "Epoch 15/2000\n",
            "1250/1250 [==============================] - 5s 4ms/step - loss: 3.1274 - accuracy: 0.2344 - val_loss: 3.0421 - val_accuracy: 0.2644\n",
            "Epoch 16/2000\n",
            "1250/1250 [==============================] - 5s 4ms/step - loss: 3.0824 - accuracy: 0.2425 - val_loss: 2.9937 - val_accuracy: 0.2718\n",
            "Epoch 17/2000\n",
            "1250/1250 [==============================] - 5s 4ms/step - loss: 3.0447 - accuracy: 0.2489 - val_loss: 2.9731 - val_accuracy: 0.2794\n",
            "Epoch 18/2000\n",
            "1250/1250 [==============================] - 5s 4ms/step - loss: 3.0160 - accuracy: 0.2531 - val_loss: 2.9409 - val_accuracy: 0.2811\n",
            "Epoch 19/2000\n",
            "1250/1250 [==============================] - 5s 4ms/step - loss: 2.9893 - accuracy: 0.2605 - val_loss: 2.9021 - val_accuracy: 0.2911\n",
            "Epoch 20/2000\n",
            "1250/1250 [==============================] - 5s 4ms/step - loss: 2.9498 - accuracy: 0.2683 - val_loss: 2.8819 - val_accuracy: 0.2916\n",
            "Epoch 21/2000\n",
            "1250/1250 [==============================] - 5s 4ms/step - loss: 2.9175 - accuracy: 0.2707 - val_loss: 2.8908 - val_accuracy: 0.2915\n",
            "Epoch 22/2000\n",
            "1250/1250 [==============================] - 5s 4ms/step - loss: 2.8988 - accuracy: 0.2795 - val_loss: 2.8354 - val_accuracy: 0.3020\n",
            "Epoch 23/2000\n",
            "1250/1250 [==============================] - 5s 4ms/step - loss: 2.8800 - accuracy: 0.2823 - val_loss: 2.8076 - val_accuracy: 0.3121\n",
            "Epoch 24/2000\n",
            "1250/1250 [==============================] - 5s 4ms/step - loss: 2.8516 - accuracy: 0.2862 - val_loss: 2.7965 - val_accuracy: 0.3066\n",
            "Epoch 25/2000\n",
            "1250/1250 [==============================] - 5s 4ms/step - loss: 2.8307 - accuracy: 0.2948 - val_loss: 2.7806 - val_accuracy: 0.3118\n",
            "Epoch 26/2000\n",
            "1250/1250 [==============================] - 5s 4ms/step - loss: 2.7801 - accuracy: 0.3013 - val_loss: 2.7559 - val_accuracy: 0.3187\n",
            "Epoch 27/2000\n",
            "1250/1250 [==============================] - 5s 4ms/step - loss: 2.7622 - accuracy: 0.3115 - val_loss: 2.7441 - val_accuracy: 0.3195\n",
            "Epoch 28/2000\n",
            "1250/1250 [==============================] - 5s 4ms/step - loss: 2.7595 - accuracy: 0.3064 - val_loss: 2.7193 - val_accuracy: 0.3250\n",
            "Epoch 29/2000\n",
            "1250/1250 [==============================] - 5s 4ms/step - loss: 2.7345 - accuracy: 0.3105 - val_loss: 2.7014 - val_accuracy: 0.3304\n",
            "Epoch 30/2000\n",
            "1250/1250 [==============================] - 5s 4ms/step - loss: 2.6986 - accuracy: 0.3178 - val_loss: 2.6682 - val_accuracy: 0.3360\n",
            "Epoch 31/2000\n",
            "1250/1250 [==============================] - 5s 4ms/step - loss: 2.6639 - accuracy: 0.3248 - val_loss: 2.6750 - val_accuracy: 0.3309\n",
            "Epoch 32/2000\n",
            "1250/1250 [==============================] - 5s 4ms/step - loss: 2.6751 - accuracy: 0.3228 - val_loss: 2.6434 - val_accuracy: 0.3375\n",
            "Epoch 33/2000\n",
            "1250/1250 [==============================] - 5s 4ms/step - loss: 2.6417 - accuracy: 0.3282 - val_loss: 2.6261 - val_accuracy: 0.3416\n",
            "Epoch 34/2000\n",
            "1250/1250 [==============================] - 5s 4ms/step - loss: 2.6083 - accuracy: 0.3333 - val_loss: 2.6159 - val_accuracy: 0.3447\n",
            "Epoch 35/2000\n",
            "1250/1250 [==============================] - 5s 4ms/step - loss: 2.6117 - accuracy: 0.3339 - val_loss: 2.5920 - val_accuracy: 0.3521\n",
            "Epoch 36/2000\n",
            "1250/1250 [==============================] - 5s 4ms/step - loss: 2.5875 - accuracy: 0.3398 - val_loss: 2.5823 - val_accuracy: 0.3541\n",
            "Epoch 37/2000\n",
            "1250/1250 [==============================] - 5s 4ms/step - loss: 2.5709 - accuracy: 0.3436 - val_loss: 2.5679 - val_accuracy: 0.3563\n",
            "Epoch 38/2000\n",
            "1250/1250 [==============================] - 5s 4ms/step - loss: 2.5413 - accuracy: 0.3496 - val_loss: 2.5463 - val_accuracy: 0.3595\n",
            "Epoch 39/2000\n",
            "1250/1250 [==============================] - 5s 4ms/step - loss: 2.5248 - accuracy: 0.3539 - val_loss: 2.5371 - val_accuracy: 0.3613\n",
            "Epoch 40/2000\n",
            "1250/1250 [==============================] - 5s 4ms/step - loss: 2.5110 - accuracy: 0.3545 - val_loss: 2.5221 - val_accuracy: 0.3643\n",
            "Epoch 41/2000\n",
            "1250/1250 [==============================] - 5s 4ms/step - loss: 2.4884 - accuracy: 0.3600 - val_loss: 2.5465 - val_accuracy: 0.3595\n",
            "Epoch 42/2000\n",
            "1250/1250 [==============================] - 5s 4ms/step - loss: 2.4701 - accuracy: 0.3653 - val_loss: 2.5127 - val_accuracy: 0.3651\n",
            "Epoch 43/2000\n",
            "1250/1250 [==============================] - 5s 4ms/step - loss: 2.4452 - accuracy: 0.3705 - val_loss: 2.4809 - val_accuracy: 0.3735\n",
            "Epoch 44/2000\n",
            "1250/1250 [==============================] - 5s 4ms/step - loss: 2.4360 - accuracy: 0.3684 - val_loss: 2.4834 - val_accuracy: 0.3734\n",
            "Epoch 45/2000\n",
            "1250/1250 [==============================] - 5s 4ms/step - loss: 2.4209 - accuracy: 0.3767 - val_loss: 2.4656 - val_accuracy: 0.3746\n",
            "Epoch 46/2000\n",
            "1250/1250 [==============================] - 5s 4ms/step - loss: 2.4126 - accuracy: 0.3757 - val_loss: 2.4654 - val_accuracy: 0.3760\n",
            "Epoch 47/2000\n",
            "1250/1250 [==============================] - 5s 4ms/step - loss: 2.4135 - accuracy: 0.3727 - val_loss: 2.4616 - val_accuracy: 0.3764\n",
            "Epoch 48/2000\n",
            "1250/1250 [==============================] - 5s 4ms/step - loss: 2.3755 - accuracy: 0.3837 - val_loss: 2.4298 - val_accuracy: 0.3847\n",
            "Epoch 49/2000\n",
            "1250/1250 [==============================] - 5s 4ms/step - loss: 2.3660 - accuracy: 0.3821 - val_loss: 2.4600 - val_accuracy: 0.3788\n",
            "Epoch 50/2000\n",
            "1250/1250 [==============================] - 5s 4ms/step - loss: 2.3545 - accuracy: 0.3903 - val_loss: 2.4468 - val_accuracy: 0.3837\n",
            "Epoch 51/2000\n",
            "1250/1250 [==============================] - 5s 4ms/step - loss: 2.3412 - accuracy: 0.3886 - val_loss: 2.4111 - val_accuracy: 0.3873\n",
            "Epoch 52/2000\n",
            "1250/1250 [==============================] - 5s 4ms/step - loss: 2.3272 - accuracy: 0.3924 - val_loss: 2.4040 - val_accuracy: 0.3881\n",
            "Epoch 53/2000\n",
            "1250/1250 [==============================] - 5s 4ms/step - loss: 2.3190 - accuracy: 0.3940 - val_loss: 2.3961 - val_accuracy: 0.3909\n",
            "Epoch 54/2000\n",
            "1250/1250 [==============================] - 5s 4ms/step - loss: 2.2999 - accuracy: 0.3999 - val_loss: 2.4013 - val_accuracy: 0.3918\n",
            "Epoch 55/2000\n",
            "1250/1250 [==============================] - 5s 4ms/step - loss: 2.2892 - accuracy: 0.3964 - val_loss: 2.3896 - val_accuracy: 0.3920\n",
            "Epoch 56/2000\n",
            "1250/1250 [==============================] - 5s 4ms/step - loss: 2.2892 - accuracy: 0.3980 - val_loss: 2.3857 - val_accuracy: 0.3903\n",
            "Epoch 57/2000\n",
            "1250/1250 [==============================] - 5s 4ms/step - loss: 2.2520 - accuracy: 0.4062 - val_loss: 2.3678 - val_accuracy: 0.3943\n",
            "Epoch 58/2000\n",
            "1250/1250 [==============================] - 5s 4ms/step - loss: 2.2591 - accuracy: 0.4064 - val_loss: 2.3733 - val_accuracy: 0.3937\n",
            "Epoch 59/2000\n",
            "1250/1250 [==============================] - 5s 4ms/step - loss: 2.2390 - accuracy: 0.4082 - val_loss: 2.3566 - val_accuracy: 0.3992\n",
            "Epoch 60/2000\n",
            "1250/1250 [==============================] - 5s 4ms/step - loss: 2.2222 - accuracy: 0.4118 - val_loss: 2.3578 - val_accuracy: 0.4015\n",
            "Epoch 61/2000\n",
            "1250/1250 [==============================] - 5s 4ms/step - loss: 2.2066 - accuracy: 0.4208 - val_loss: 2.3449 - val_accuracy: 0.4033\n",
            "Epoch 62/2000\n",
            "1250/1250 [==============================] - 5s 4ms/step - loss: 2.2126 - accuracy: 0.4159 - val_loss: 2.3244 - val_accuracy: 0.4094\n",
            "Epoch 63/2000\n",
            "1250/1250 [==============================] - 5s 4ms/step - loss: 2.1972 - accuracy: 0.4172 - val_loss: 2.3347 - val_accuracy: 0.4017\n"
          ],
          "name": "stdout"
        }
      ]
    },
    {
      "cell_type": "code",
      "metadata": {
        "id": "rDtr7IdBSjm7",
        "colab": {
          "base_uri": "https://localhost:8080/",
          "height": 34
        },
        "outputId": "b8dcb374-f468-43e4-a24e-cad5e2415553"
      },
      "source": [
        "print(history.history.keys())"
      ],
      "execution_count": null,
      "outputs": [
        {
          "output_type": "stream",
          "text": [
            "dict_keys(['val_loss', 'val_acc', 'loss', 'acc'])\n"
          ],
          "name": "stdout"
        }
      ]
    },
    {
      "cell_type": "code",
      "metadata": {
        "id": "9OUHSBhbSjm9"
      },
      "source": [
        "valAccuracy = history.history['val_acc']\n",
        "valLoss = history.history['val_loss']\n",
        "modelLoss = history.history['loss']\n",
        "accuracy = history.history['acc']\n",
        "numEpochs = range(len(accuracy))"
      ],
      "execution_count": null,
      "outputs": []
    },
    {
      "cell_type": "code",
      "metadata": {
        "id": "_THipVzhSjm_"
      },
      "source": [
        "#include plot for tranining accuracy vs test accuracy"
      ],
      "execution_count": null,
      "outputs": []
    },
    {
      "cell_type": "code",
      "metadata": {
        "id": "vxiWwyXQyKjX"
      },
      "source": [
        "dr_model = Sequential()\n",
        "dr_model.add(ZeroPadding2D(4, input_shape=(32,32,3)))\n",
        "# Stack 1:\n",
        "dr_model.add(Conv2D(384, (3, 3), padding='same'))\n",
        "dr_model.add(Activation('relu'))\n",
        "dr_model.add(MaxPooling2D(pool_size=(2, 2), padding='same'))\n",
        "dr_model.add(Dropout(0.5))\n",
        "# Stack 2:\n",
        "dr_model.add(Conv2D(384, (1, 1), padding='same'))\n",
        "dr_model.add(Conv2D(384, (2, 2), padding='same'))\n",
        "dr_model.add(Conv2D(640, (2, 2), padding='same'))\n",
        "dr_model.add(Conv2D(640, (2, 2), padding='same'))\n",
        "dr_model.add(Activation('relu'))\n",
        "dr_model.add(MaxPooling2D(pool_size=(2, 2), padding='same'))\n",
        "dr_model.add(Dropout(0.5))\n",
        "# Stack 3:\n",
        "dr_model.add(Conv2D(640, (3, 3), padding='same'))\n",
        "dr_model.add(Conv2D(768, (2, 2), padding='same'))\n",
        "dr_model.add(Conv2D(768, (2, 2), padding='same'))\n",
        "dr_model.add(Conv2D(768, (2, 2), padding='same'))\n",
        "dr_model.add(Activation('relu'))\n",
        "dr_model.add(MaxPooling2D(pool_size=(2, 2), padding='same'))\n",
        "dr_model.add(Dropout(0.5))\n",
        "# Stack 4:\n",
        "dr_model.add(Conv2D(768, (1, 1), padding='same'))\n",
        "dr_model.add(Conv2D(896, (2, 2), padding='same'))\n",
        "dr_model.add(Conv2D(896, (2, 2), padding='same'))\n",
        "dr_model.add(Activation('relu'))\n",
        "dr_model.add(MaxPooling2D(pool_size=(2, 2), padding='same'))\n",
        "dr_model.add(Dropout(0.5))\n",
        "# Stack 5:\n",
        "dr_model.add(Conv2D(896, (3, 3), padding='same'))\n",
        "dr_model.add(Conv2D(1024, (2, 2), padding='same'))\n",
        "dr_model.add(Conv2D(1024, (2, 2), padding='same'))\n",
        "dr_model.add(Activation('relu'))\n",
        "dr_model.add(MaxPooling2D(pool_size=(2, 2), padding='same'))\n",
        "dr_model.add(Dropout(0.5))\n",
        "# Stack 6:\n",
        "dr_model.add(Conv2D(1024, (1, 1), padding='same'))\n",
        "dr_model.add(Conv2D(1152, (2, 2), padding='same'))\n",
        "dr_model.add(Activation('relu'))\n",
        "dr_model.add(MaxPooling2D(pool_size=(2, 2), padding='same'))\n",
        "dr_model.add(Dropout(0.5))\n",
        "# Stack 7:\n",
        "dr_model.add(Conv2D(1152, (1, 1), padding='same'))\n",
        "dr_model.add(Activation('relu'))\n",
        "dr_model.add(MaxPooling2D(pool_size=(2, 2), padding='same'))\n",
        "dr_model.add(Dropout(0.5))\n",
        "dr_model.add(Flatten())\n",
        "dr_model.add(Dense(100))\n",
        "dr_model.add(Activation('softmax'))"
      ],
      "execution_count": null,
      "outputs": []
    },
    {
      "cell_type": "code",
      "metadata": {
        "id": "8iP2QBJAy9iN"
      },
      "source": [
        "dr_model.compile(loss='categorical_crossentropy', optimizer = keras.optimizers.Adam(lr=0.0001),metrics=['accuracy'])"
      ],
      "execution_count": null,
      "outputs": []
    },
    {
      "cell_type": "code",
      "metadata": {
        "colab": {
          "base_uri": "https://localhost:8080/",
          "height": 1000
        },
        "id": "hk8PWQqfzRK-",
        "outputId": "f21851a6-a26c-4b0a-f47b-3e93ea13b403"
      },
      "source": [
        "history = dr_model.fit(X_train, y_label, epochs = 50, batch_size=100, validation_data=(X_validate, y_validate))"
      ],
      "execution_count": null,
      "outputs": [
        {
          "output_type": "stream",
          "text": [
            "Epoch 1/50\n",
            "400/400 [==============================] - 532s 1s/step - loss: 2.5675 - accuracy: 0.3345 - val_loss: 2.3796 - val_accuracy: 0.3803\n",
            "Epoch 2/50\n",
            "400/400 [==============================] - 532s 1s/step - loss: 2.5226 - accuracy: 0.3442 - val_loss: 2.3410 - val_accuracy: 0.3894\n",
            "Epoch 3/50\n",
            "400/400 [==============================] - 532s 1s/step - loss: 2.4900 - accuracy: 0.3519 - val_loss: 2.4047 - val_accuracy: 0.3765\n",
            "Epoch 4/50\n",
            "400/400 [==============================] - 532s 1s/step - loss: 2.4515 - accuracy: 0.3617 - val_loss: 2.3716 - val_accuracy: 0.3854\n",
            "Epoch 5/50\n",
            "400/400 [==============================] - 532s 1s/step - loss: 2.4187 - accuracy: 0.3664 - val_loss: 2.2605 - val_accuracy: 0.4032\n",
            "Epoch 6/50\n",
            "400/400 [==============================] - 532s 1s/step - loss: 2.3770 - accuracy: 0.3742 - val_loss: 2.2079 - val_accuracy: 0.4184\n",
            "Epoch 7/50\n",
            "400/400 [==============================] - 532s 1s/step - loss: 2.3548 - accuracy: 0.3816 - val_loss: 2.2632 - val_accuracy: 0.4095\n",
            "Epoch 8/50\n",
            "400/400 [==============================] - 533s 1s/step - loss: 2.3286 - accuracy: 0.3867 - val_loss: 2.1996 - val_accuracy: 0.4193\n",
            "Epoch 9/50\n",
            "400/400 [==============================] - 533s 1s/step - loss: 2.3012 - accuracy: 0.3943 - val_loss: 2.1765 - val_accuracy: 0.4299\n",
            "Epoch 10/50\n",
            "400/400 [==============================] - 532s 1s/step - loss: 2.2819 - accuracy: 0.3971 - val_loss: 2.1751 - val_accuracy: 0.4259\n",
            "Epoch 11/50\n",
            "400/400 [==============================] - 532s 1s/step - loss: 2.2731 - accuracy: 0.4049 - val_loss: 2.0991 - val_accuracy: 0.4397\n",
            "Epoch 12/50\n",
            "400/400 [==============================] - 532s 1s/step - loss: 2.2177 - accuracy: 0.4119 - val_loss: 2.1683 - val_accuracy: 0.4313\n",
            "Epoch 13/50\n",
            "400/400 [==============================] - 533s 1s/step - loss: 2.2048 - accuracy: 0.4175 - val_loss: 2.1447 - val_accuracy: 0.4335\n",
            "Epoch 14/50\n",
            "400/400 [==============================] - 533s 1s/step - loss: 2.1761 - accuracy: 0.4225 - val_loss: 2.0927 - val_accuracy: 0.4419\n",
            "Epoch 15/50\n",
            "400/400 [==============================] - 533s 1s/step - loss: 2.1584 - accuracy: 0.4279 - val_loss: 2.1116 - val_accuracy: 0.4415\n",
            "Epoch 16/50\n",
            "400/400 [==============================] - 533s 1s/step - loss: 2.1519 - accuracy: 0.4279 - val_loss: 2.1147 - val_accuracy: 0.4438\n",
            "Epoch 17/50\n",
            "400/400 [==============================] - 533s 1s/step - loss: 2.1400 - accuracy: 0.4324 - val_loss: 2.0638 - val_accuracy: 0.4495\n",
            "Epoch 18/50\n",
            "400/400 [==============================] - 533s 1s/step - loss: 2.0985 - accuracy: 0.4395 - val_loss: 1.9534 - val_accuracy: 0.4807\n",
            "Epoch 19/50\n",
            "400/400 [==============================] - 532s 1s/step - loss: 2.0945 - accuracy: 0.4424 - val_loss: 2.0274 - val_accuracy: 0.4579\n",
            "Epoch 20/50\n",
            "400/400 [==============================] - 531s 1s/step - loss: 2.0728 - accuracy: 0.4461 - val_loss: 2.0260 - val_accuracy: 0.4536\n",
            "Epoch 21/50\n",
            "400/400 [==============================] - 531s 1s/step - loss: 2.0585 - accuracy: 0.4517 - val_loss: 1.9604 - val_accuracy: 0.4744\n",
            "Epoch 22/50\n",
            "400/400 [==============================] - 531s 1s/step - loss: 2.0595 - accuracy: 0.4488 - val_loss: 1.9262 - val_accuracy: 0.4841\n",
            "Epoch 23/50\n",
            "400/400 [==============================] - 530s 1s/step - loss: 2.0349 - accuracy: 0.4542 - val_loss: 2.0397 - val_accuracy: 0.4614\n",
            "Epoch 24/50\n",
            "400/400 [==============================] - 530s 1s/step - loss: 2.0189 - accuracy: 0.4586 - val_loss: 1.9680 - val_accuracy: 0.4799\n",
            "Epoch 25/50\n",
            "400/400 [==============================] - 530s 1s/step - loss: 2.0067 - accuracy: 0.4623 - val_loss: 1.9684 - val_accuracy: 0.4738\n",
            "Epoch 26/50\n",
            "400/400 [==============================] - 530s 1s/step - loss: 1.9997 - accuracy: 0.4653 - val_loss: 2.0247 - val_accuracy: 0.4705\n",
            "Epoch 27/50\n",
            "400/400 [==============================] - 530s 1s/step - loss: 1.9803 - accuracy: 0.4670 - val_loss: 1.9688 - val_accuracy: 0.4821\n",
            "Epoch 28/50\n",
            "400/400 [==============================] - 530s 1s/step - loss: 1.9632 - accuracy: 0.4721 - val_loss: 1.9557 - val_accuracy: 0.4817\n",
            "Epoch 29/50\n",
            "400/400 [==============================] - 530s 1s/step - loss: 1.9434 - accuracy: 0.4771 - val_loss: 1.9103 - val_accuracy: 0.4900\n",
            "Epoch 30/50\n",
            "400/400 [==============================] - 529s 1s/step - loss: 1.9239 - accuracy: 0.4812 - val_loss: 1.9632 - val_accuracy: 0.4802\n",
            "Epoch 31/50\n",
            " 50/400 [==>...........................] - ETA: 7:10 - loss: 1.8394 - accuracy: 0.4948"
          ],
          "name": "stdout"
        },
        {
          "output_type": "error",
          "ename": "KeyboardInterrupt",
          "evalue": "ignored",
          "traceback": [
            "\u001b[0;31m---------------------------------------------------------------------------\u001b[0m",
            "\u001b[0;31mKeyboardInterrupt\u001b[0m                         Traceback (most recent call last)",
            "\u001b[0;32m<ipython-input-32-8dc612f59aef>\u001b[0m in \u001b[0;36m<module>\u001b[0;34m()\u001b[0m\n\u001b[0;32m----> 1\u001b[0;31m \u001b[0mhistory\u001b[0m \u001b[0;34m=\u001b[0m \u001b[0mdr_model\u001b[0m\u001b[0;34m.\u001b[0m\u001b[0mfit\u001b[0m\u001b[0;34m(\u001b[0m\u001b[0mX_train\u001b[0m\u001b[0;34m,\u001b[0m \u001b[0my_label\u001b[0m\u001b[0;34m,\u001b[0m \u001b[0mepochs\u001b[0m \u001b[0;34m=\u001b[0m \u001b[0;36m50\u001b[0m\u001b[0;34m,\u001b[0m \u001b[0mbatch_size\u001b[0m\u001b[0;34m=\u001b[0m\u001b[0;36m100\u001b[0m\u001b[0;34m,\u001b[0m \u001b[0mvalidation_data\u001b[0m\u001b[0;34m=\u001b[0m\u001b[0;34m(\u001b[0m\u001b[0mX_validate\u001b[0m\u001b[0;34m,\u001b[0m \u001b[0my_validate\u001b[0m\u001b[0;34m)\u001b[0m\u001b[0;34m)\u001b[0m\u001b[0;34m\u001b[0m\u001b[0;34m\u001b[0m\u001b[0m\n\u001b[0m",
            "\u001b[0;32m/usr/local/lib/python3.7/dist-packages/tensorflow/python/keras/engine/training.py\u001b[0m in \u001b[0;36mfit\u001b[0;34m(self, x, y, batch_size, epochs, verbose, callbacks, validation_split, validation_data, shuffle, class_weight, sample_weight, initial_epoch, steps_per_epoch, validation_steps, validation_batch_size, validation_freq, max_queue_size, workers, use_multiprocessing)\u001b[0m\n\u001b[1;32m   1103\u001b[0m               \u001b[0mlogs\u001b[0m \u001b[0;34m=\u001b[0m \u001b[0mtmp_logs\u001b[0m  \u001b[0;31m# No error, now safe to assign to logs.\u001b[0m\u001b[0;34m\u001b[0m\u001b[0;34m\u001b[0m\u001b[0m\n\u001b[1;32m   1104\u001b[0m               \u001b[0mend_step\u001b[0m \u001b[0;34m=\u001b[0m \u001b[0mstep\u001b[0m \u001b[0;34m+\u001b[0m \u001b[0mdata_handler\u001b[0m\u001b[0;34m.\u001b[0m\u001b[0mstep_increment\u001b[0m\u001b[0;34m\u001b[0m\u001b[0;34m\u001b[0m\u001b[0m\n\u001b[0;32m-> 1105\u001b[0;31m               \u001b[0mcallbacks\u001b[0m\u001b[0;34m.\u001b[0m\u001b[0mon_train_batch_end\u001b[0m\u001b[0;34m(\u001b[0m\u001b[0mend_step\u001b[0m\u001b[0;34m,\u001b[0m \u001b[0mlogs\u001b[0m\u001b[0;34m)\u001b[0m\u001b[0;34m\u001b[0m\u001b[0;34m\u001b[0m\u001b[0m\n\u001b[0m\u001b[1;32m   1106\u001b[0m               \u001b[0;32mif\u001b[0m \u001b[0mself\u001b[0m\u001b[0;34m.\u001b[0m\u001b[0mstop_training\u001b[0m\u001b[0;34m:\u001b[0m\u001b[0;34m\u001b[0m\u001b[0;34m\u001b[0m\u001b[0m\n\u001b[1;32m   1107\u001b[0m                 \u001b[0;32mbreak\u001b[0m\u001b[0;34m\u001b[0m\u001b[0;34m\u001b[0m\u001b[0m\n",
            "\u001b[0;32m/usr/local/lib/python3.7/dist-packages/tensorflow/python/keras/callbacks.py\u001b[0m in \u001b[0;36mon_train_batch_end\u001b[0;34m(self, batch, logs)\u001b[0m\n\u001b[1;32m    452\u001b[0m     \"\"\"\n\u001b[1;32m    453\u001b[0m     \u001b[0;32mif\u001b[0m \u001b[0mself\u001b[0m\u001b[0;34m.\u001b[0m\u001b[0m_should_call_train_batch_hooks\u001b[0m\u001b[0;34m:\u001b[0m\u001b[0;34m\u001b[0m\u001b[0;34m\u001b[0m\u001b[0m\n\u001b[0;32m--> 454\u001b[0;31m       \u001b[0mself\u001b[0m\u001b[0;34m.\u001b[0m\u001b[0m_call_batch_hook\u001b[0m\u001b[0;34m(\u001b[0m\u001b[0mModeKeys\u001b[0m\u001b[0;34m.\u001b[0m\u001b[0mTRAIN\u001b[0m\u001b[0;34m,\u001b[0m \u001b[0;34m'end'\u001b[0m\u001b[0;34m,\u001b[0m \u001b[0mbatch\u001b[0m\u001b[0;34m,\u001b[0m \u001b[0mlogs\u001b[0m\u001b[0;34m=\u001b[0m\u001b[0mlogs\u001b[0m\u001b[0;34m)\u001b[0m\u001b[0;34m\u001b[0m\u001b[0;34m\u001b[0m\u001b[0m\n\u001b[0m\u001b[1;32m    455\u001b[0m \u001b[0;34m\u001b[0m\u001b[0m\n\u001b[1;32m    456\u001b[0m   \u001b[0;32mdef\u001b[0m \u001b[0mon_test_batch_begin\u001b[0m\u001b[0;34m(\u001b[0m\u001b[0mself\u001b[0m\u001b[0;34m,\u001b[0m \u001b[0mbatch\u001b[0m\u001b[0;34m,\u001b[0m \u001b[0mlogs\u001b[0m\u001b[0;34m=\u001b[0m\u001b[0;32mNone\u001b[0m\u001b[0;34m)\u001b[0m\u001b[0;34m:\u001b[0m\u001b[0;34m\u001b[0m\u001b[0;34m\u001b[0m\u001b[0m\n",
            "\u001b[0;32m/usr/local/lib/python3.7/dist-packages/tensorflow/python/keras/callbacks.py\u001b[0m in \u001b[0;36m_call_batch_hook\u001b[0;34m(self, mode, hook, batch, logs)\u001b[0m\n\u001b[1;32m    294\u001b[0m       \u001b[0mself\u001b[0m\u001b[0;34m.\u001b[0m\u001b[0m_call_batch_begin_hook\u001b[0m\u001b[0;34m(\u001b[0m\u001b[0mmode\u001b[0m\u001b[0;34m,\u001b[0m \u001b[0mbatch\u001b[0m\u001b[0;34m,\u001b[0m \u001b[0mlogs\u001b[0m\u001b[0;34m)\u001b[0m\u001b[0;34m\u001b[0m\u001b[0;34m\u001b[0m\u001b[0m\n\u001b[1;32m    295\u001b[0m     \u001b[0;32melif\u001b[0m \u001b[0mhook\u001b[0m \u001b[0;34m==\u001b[0m \u001b[0;34m'end'\u001b[0m\u001b[0;34m:\u001b[0m\u001b[0;34m\u001b[0m\u001b[0;34m\u001b[0m\u001b[0m\n\u001b[0;32m--> 296\u001b[0;31m       \u001b[0mself\u001b[0m\u001b[0;34m.\u001b[0m\u001b[0m_call_batch_end_hook\u001b[0m\u001b[0;34m(\u001b[0m\u001b[0mmode\u001b[0m\u001b[0;34m,\u001b[0m \u001b[0mbatch\u001b[0m\u001b[0;34m,\u001b[0m \u001b[0mlogs\u001b[0m\u001b[0;34m)\u001b[0m\u001b[0;34m\u001b[0m\u001b[0;34m\u001b[0m\u001b[0m\n\u001b[0m\u001b[1;32m    297\u001b[0m     \u001b[0;32melse\u001b[0m\u001b[0;34m:\u001b[0m\u001b[0;34m\u001b[0m\u001b[0;34m\u001b[0m\u001b[0m\n\u001b[1;32m    298\u001b[0m       \u001b[0;32mraise\u001b[0m \u001b[0mValueError\u001b[0m\u001b[0;34m(\u001b[0m\u001b[0;34m'Unrecognized hook: {}'\u001b[0m\u001b[0;34m.\u001b[0m\u001b[0mformat\u001b[0m\u001b[0;34m(\u001b[0m\u001b[0mhook\u001b[0m\u001b[0;34m)\u001b[0m\u001b[0;34m)\u001b[0m\u001b[0;34m\u001b[0m\u001b[0;34m\u001b[0m\u001b[0m\n",
            "\u001b[0;32m/usr/local/lib/python3.7/dist-packages/tensorflow/python/keras/callbacks.py\u001b[0m in \u001b[0;36m_call_batch_end_hook\u001b[0;34m(self, mode, batch, logs)\u001b[0m\n\u001b[1;32m    314\u001b[0m       \u001b[0mself\u001b[0m\u001b[0;34m.\u001b[0m\u001b[0m_batch_times\u001b[0m\u001b[0;34m.\u001b[0m\u001b[0mappend\u001b[0m\u001b[0;34m(\u001b[0m\u001b[0mbatch_time\u001b[0m\u001b[0;34m)\u001b[0m\u001b[0;34m\u001b[0m\u001b[0;34m\u001b[0m\u001b[0m\n\u001b[1;32m    315\u001b[0m \u001b[0;34m\u001b[0m\u001b[0m\n\u001b[0;32m--> 316\u001b[0;31m     \u001b[0mself\u001b[0m\u001b[0;34m.\u001b[0m\u001b[0m_call_batch_hook_helper\u001b[0m\u001b[0;34m(\u001b[0m\u001b[0mhook_name\u001b[0m\u001b[0;34m,\u001b[0m \u001b[0mbatch\u001b[0m\u001b[0;34m,\u001b[0m \u001b[0mlogs\u001b[0m\u001b[0;34m)\u001b[0m\u001b[0;34m\u001b[0m\u001b[0;34m\u001b[0m\u001b[0m\n\u001b[0m\u001b[1;32m    317\u001b[0m \u001b[0;34m\u001b[0m\u001b[0m\n\u001b[1;32m    318\u001b[0m     \u001b[0;32mif\u001b[0m \u001b[0mlen\u001b[0m\u001b[0;34m(\u001b[0m\u001b[0mself\u001b[0m\u001b[0;34m.\u001b[0m\u001b[0m_batch_times\u001b[0m\u001b[0;34m)\u001b[0m \u001b[0;34m>=\u001b[0m \u001b[0mself\u001b[0m\u001b[0;34m.\u001b[0m\u001b[0m_num_batches_for_timing_check\u001b[0m\u001b[0;34m:\u001b[0m\u001b[0;34m\u001b[0m\u001b[0;34m\u001b[0m\u001b[0m\n",
            "\u001b[0;32m/usr/local/lib/python3.7/dist-packages/tensorflow/python/keras/callbacks.py\u001b[0m in \u001b[0;36m_call_batch_hook_helper\u001b[0;34m(self, hook_name, batch, logs)\u001b[0m\n\u001b[1;32m    354\u001b[0m       \u001b[0mhook\u001b[0m \u001b[0;34m=\u001b[0m \u001b[0mgetattr\u001b[0m\u001b[0;34m(\u001b[0m\u001b[0mcallback\u001b[0m\u001b[0;34m,\u001b[0m \u001b[0mhook_name\u001b[0m\u001b[0;34m)\u001b[0m\u001b[0;34m\u001b[0m\u001b[0;34m\u001b[0m\u001b[0m\n\u001b[1;32m    355\u001b[0m       \u001b[0;32mif\u001b[0m \u001b[0mgetattr\u001b[0m\u001b[0;34m(\u001b[0m\u001b[0mcallback\u001b[0m\u001b[0;34m,\u001b[0m \u001b[0;34m'_supports_tf_logs'\u001b[0m\u001b[0;34m,\u001b[0m \u001b[0;32mFalse\u001b[0m\u001b[0;34m)\u001b[0m\u001b[0;34m:\u001b[0m\u001b[0;34m\u001b[0m\u001b[0;34m\u001b[0m\u001b[0m\n\u001b[0;32m--> 356\u001b[0;31m         \u001b[0mhook\u001b[0m\u001b[0;34m(\u001b[0m\u001b[0mbatch\u001b[0m\u001b[0;34m,\u001b[0m \u001b[0mlogs\u001b[0m\u001b[0;34m)\u001b[0m\u001b[0;34m\u001b[0m\u001b[0;34m\u001b[0m\u001b[0m\n\u001b[0m\u001b[1;32m    357\u001b[0m       \u001b[0;32melse\u001b[0m\u001b[0;34m:\u001b[0m\u001b[0;34m\u001b[0m\u001b[0;34m\u001b[0m\u001b[0m\n\u001b[1;32m    358\u001b[0m         \u001b[0;32mif\u001b[0m \u001b[0mnumpy_logs\u001b[0m \u001b[0;32mis\u001b[0m \u001b[0;32mNone\u001b[0m\u001b[0;34m:\u001b[0m  \u001b[0;31m# Only convert once.\u001b[0m\u001b[0;34m\u001b[0m\u001b[0;34m\u001b[0m\u001b[0m\n",
            "\u001b[0;32m/usr/local/lib/python3.7/dist-packages/tensorflow/python/keras/callbacks.py\u001b[0m in \u001b[0;36mon_train_batch_end\u001b[0;34m(self, batch, logs)\u001b[0m\n\u001b[1;32m   1018\u001b[0m \u001b[0;34m\u001b[0m\u001b[0m\n\u001b[1;32m   1019\u001b[0m   \u001b[0;32mdef\u001b[0m \u001b[0mon_train_batch_end\u001b[0m\u001b[0;34m(\u001b[0m\u001b[0mself\u001b[0m\u001b[0;34m,\u001b[0m \u001b[0mbatch\u001b[0m\u001b[0;34m,\u001b[0m \u001b[0mlogs\u001b[0m\u001b[0;34m=\u001b[0m\u001b[0;32mNone\u001b[0m\u001b[0;34m)\u001b[0m\u001b[0;34m:\u001b[0m\u001b[0;34m\u001b[0m\u001b[0;34m\u001b[0m\u001b[0m\n\u001b[0;32m-> 1020\u001b[0;31m     \u001b[0mself\u001b[0m\u001b[0;34m.\u001b[0m\u001b[0m_batch_update_progbar\u001b[0m\u001b[0;34m(\u001b[0m\u001b[0mbatch\u001b[0m\u001b[0;34m,\u001b[0m \u001b[0mlogs\u001b[0m\u001b[0;34m)\u001b[0m\u001b[0;34m\u001b[0m\u001b[0;34m\u001b[0m\u001b[0m\n\u001b[0m\u001b[1;32m   1021\u001b[0m \u001b[0;34m\u001b[0m\u001b[0m\n\u001b[1;32m   1022\u001b[0m   \u001b[0;32mdef\u001b[0m \u001b[0mon_test_batch_end\u001b[0m\u001b[0;34m(\u001b[0m\u001b[0mself\u001b[0m\u001b[0;34m,\u001b[0m \u001b[0mbatch\u001b[0m\u001b[0;34m,\u001b[0m \u001b[0mlogs\u001b[0m\u001b[0;34m=\u001b[0m\u001b[0;32mNone\u001b[0m\u001b[0;34m)\u001b[0m\u001b[0;34m:\u001b[0m\u001b[0;34m\u001b[0m\u001b[0;34m\u001b[0m\u001b[0m\n",
            "\u001b[0;32m/usr/local/lib/python3.7/dist-packages/tensorflow/python/keras/callbacks.py\u001b[0m in \u001b[0;36m_batch_update_progbar\u001b[0;34m(self, batch, logs)\u001b[0m\n\u001b[1;32m   1082\u001b[0m     \u001b[0;32mif\u001b[0m \u001b[0mself\u001b[0m\u001b[0;34m.\u001b[0m\u001b[0mverbose\u001b[0m \u001b[0;34m==\u001b[0m \u001b[0;36m1\u001b[0m\u001b[0;34m:\u001b[0m\u001b[0;34m\u001b[0m\u001b[0;34m\u001b[0m\u001b[0m\n\u001b[1;32m   1083\u001b[0m       \u001b[0;31m# Only block async when verbose = 1.\u001b[0m\u001b[0;34m\u001b[0m\u001b[0;34m\u001b[0m\u001b[0;34m\u001b[0m\u001b[0m\n\u001b[0;32m-> 1084\u001b[0;31m       \u001b[0mlogs\u001b[0m \u001b[0;34m=\u001b[0m \u001b[0mtf_utils\u001b[0m\u001b[0;34m.\u001b[0m\u001b[0mto_numpy_or_python_type\u001b[0m\u001b[0;34m(\u001b[0m\u001b[0mlogs\u001b[0m\u001b[0;34m)\u001b[0m\u001b[0;34m\u001b[0m\u001b[0;34m\u001b[0m\u001b[0m\n\u001b[0m\u001b[1;32m   1085\u001b[0m       \u001b[0mself\u001b[0m\u001b[0;34m.\u001b[0m\u001b[0mprogbar\u001b[0m\u001b[0;34m.\u001b[0m\u001b[0mupdate\u001b[0m\u001b[0;34m(\u001b[0m\u001b[0mself\u001b[0m\u001b[0;34m.\u001b[0m\u001b[0mseen\u001b[0m\u001b[0;34m,\u001b[0m \u001b[0mlist\u001b[0m\u001b[0;34m(\u001b[0m\u001b[0mlogs\u001b[0m\u001b[0;34m.\u001b[0m\u001b[0mitems\u001b[0m\u001b[0;34m(\u001b[0m\u001b[0;34m)\u001b[0m\u001b[0;34m)\u001b[0m\u001b[0;34m,\u001b[0m \u001b[0mfinalize\u001b[0m\u001b[0;34m=\u001b[0m\u001b[0;32mFalse\u001b[0m\u001b[0;34m)\u001b[0m\u001b[0;34m\u001b[0m\u001b[0;34m\u001b[0m\u001b[0m\n\u001b[1;32m   1086\u001b[0m \u001b[0;34m\u001b[0m\u001b[0m\n",
            "\u001b[0;32m/usr/local/lib/python3.7/dist-packages/tensorflow/python/keras/utils/tf_utils.py\u001b[0m in \u001b[0;36mto_numpy_or_python_type\u001b[0;34m(tensors)\u001b[0m\n\u001b[1;32m    512\u001b[0m     \u001b[0;32mreturn\u001b[0m \u001b[0mt\u001b[0m  \u001b[0;31m# Don't turn ragged or sparse tensors to NumPy.\u001b[0m\u001b[0;34m\u001b[0m\u001b[0;34m\u001b[0m\u001b[0m\n\u001b[1;32m    513\u001b[0m \u001b[0;34m\u001b[0m\u001b[0m\n\u001b[0;32m--> 514\u001b[0;31m   \u001b[0;32mreturn\u001b[0m \u001b[0mnest\u001b[0m\u001b[0;34m.\u001b[0m\u001b[0mmap_structure\u001b[0m\u001b[0;34m(\u001b[0m\u001b[0m_to_single_numpy_or_python_type\u001b[0m\u001b[0;34m,\u001b[0m \u001b[0mtensors\u001b[0m\u001b[0;34m)\u001b[0m\u001b[0;34m\u001b[0m\u001b[0;34m\u001b[0m\u001b[0m\n\u001b[0m\u001b[1;32m    515\u001b[0m \u001b[0;34m\u001b[0m\u001b[0m\n\u001b[1;32m    516\u001b[0m \u001b[0;34m\u001b[0m\u001b[0m\n",
            "\u001b[0;32m/usr/local/lib/python3.7/dist-packages/tensorflow/python/util/nest.py\u001b[0m in \u001b[0;36mmap_structure\u001b[0;34m(func, *structure, **kwargs)\u001b[0m\n\u001b[1;32m    657\u001b[0m \u001b[0;34m\u001b[0m\u001b[0m\n\u001b[1;32m    658\u001b[0m   return pack_sequence_as(\n\u001b[0;32m--> 659\u001b[0;31m       \u001b[0mstructure\u001b[0m\u001b[0;34m[\u001b[0m\u001b[0;36m0\u001b[0m\u001b[0;34m]\u001b[0m\u001b[0;34m,\u001b[0m \u001b[0;34m[\u001b[0m\u001b[0mfunc\u001b[0m\u001b[0;34m(\u001b[0m\u001b[0;34m*\u001b[0m\u001b[0mx\u001b[0m\u001b[0;34m)\u001b[0m \u001b[0;32mfor\u001b[0m \u001b[0mx\u001b[0m \u001b[0;32min\u001b[0m \u001b[0mentries\u001b[0m\u001b[0;34m]\u001b[0m\u001b[0;34m,\u001b[0m\u001b[0;34m\u001b[0m\u001b[0;34m\u001b[0m\u001b[0m\n\u001b[0m\u001b[1;32m    660\u001b[0m       expand_composites=expand_composites)\n\u001b[1;32m    661\u001b[0m \u001b[0;34m\u001b[0m\u001b[0m\n",
            "\u001b[0;32m/usr/local/lib/python3.7/dist-packages/tensorflow/python/util/nest.py\u001b[0m in \u001b[0;36m<listcomp>\u001b[0;34m(.0)\u001b[0m\n\u001b[1;32m    657\u001b[0m \u001b[0;34m\u001b[0m\u001b[0m\n\u001b[1;32m    658\u001b[0m   return pack_sequence_as(\n\u001b[0;32m--> 659\u001b[0;31m       \u001b[0mstructure\u001b[0m\u001b[0;34m[\u001b[0m\u001b[0;36m0\u001b[0m\u001b[0;34m]\u001b[0m\u001b[0;34m,\u001b[0m \u001b[0;34m[\u001b[0m\u001b[0mfunc\u001b[0m\u001b[0;34m(\u001b[0m\u001b[0;34m*\u001b[0m\u001b[0mx\u001b[0m\u001b[0;34m)\u001b[0m \u001b[0;32mfor\u001b[0m \u001b[0mx\u001b[0m \u001b[0;32min\u001b[0m \u001b[0mentries\u001b[0m\u001b[0;34m]\u001b[0m\u001b[0;34m,\u001b[0m\u001b[0;34m\u001b[0m\u001b[0;34m\u001b[0m\u001b[0m\n\u001b[0m\u001b[1;32m    660\u001b[0m       expand_composites=expand_composites)\n\u001b[1;32m    661\u001b[0m \u001b[0;34m\u001b[0m\u001b[0m\n",
            "\u001b[0;32m/usr/local/lib/python3.7/dist-packages/tensorflow/python/keras/utils/tf_utils.py\u001b[0m in \u001b[0;36m_to_single_numpy_or_python_type\u001b[0;34m(t)\u001b[0m\n\u001b[1;32m    508\u001b[0m   \u001b[0;32mdef\u001b[0m \u001b[0m_to_single_numpy_or_python_type\u001b[0m\u001b[0;34m(\u001b[0m\u001b[0mt\u001b[0m\u001b[0;34m)\u001b[0m\u001b[0;34m:\u001b[0m\u001b[0;34m\u001b[0m\u001b[0;34m\u001b[0m\u001b[0m\n\u001b[1;32m    509\u001b[0m     \u001b[0;32mif\u001b[0m \u001b[0misinstance\u001b[0m\u001b[0;34m(\u001b[0m\u001b[0mt\u001b[0m\u001b[0;34m,\u001b[0m \u001b[0mops\u001b[0m\u001b[0;34m.\u001b[0m\u001b[0mTensor\u001b[0m\u001b[0;34m)\u001b[0m\u001b[0;34m:\u001b[0m\u001b[0;34m\u001b[0m\u001b[0;34m\u001b[0m\u001b[0m\n\u001b[0;32m--> 510\u001b[0;31m       \u001b[0mx\u001b[0m \u001b[0;34m=\u001b[0m \u001b[0mt\u001b[0m\u001b[0;34m.\u001b[0m\u001b[0mnumpy\u001b[0m\u001b[0;34m(\u001b[0m\u001b[0;34m)\u001b[0m\u001b[0;34m\u001b[0m\u001b[0;34m\u001b[0m\u001b[0m\n\u001b[0m\u001b[1;32m    511\u001b[0m       \u001b[0;32mreturn\u001b[0m \u001b[0mx\u001b[0m\u001b[0;34m.\u001b[0m\u001b[0mitem\u001b[0m\u001b[0;34m(\u001b[0m\u001b[0;34m)\u001b[0m \u001b[0;32mif\u001b[0m \u001b[0mnp\u001b[0m\u001b[0;34m.\u001b[0m\u001b[0mndim\u001b[0m\u001b[0;34m(\u001b[0m\u001b[0mx\u001b[0m\u001b[0;34m)\u001b[0m \u001b[0;34m==\u001b[0m \u001b[0;36m0\u001b[0m \u001b[0;32melse\u001b[0m \u001b[0mx\u001b[0m\u001b[0;34m\u001b[0m\u001b[0;34m\u001b[0m\u001b[0m\n\u001b[1;32m    512\u001b[0m     \u001b[0;32mreturn\u001b[0m \u001b[0mt\u001b[0m  \u001b[0;31m# Don't turn ragged or sparse tensors to NumPy.\u001b[0m\u001b[0;34m\u001b[0m\u001b[0;34m\u001b[0m\u001b[0m\n",
            "\u001b[0;32m/usr/local/lib/python3.7/dist-packages/tensorflow/python/framework/ops.py\u001b[0m in \u001b[0;36mnumpy\u001b[0;34m(self)\u001b[0m\n\u001b[1;32m   1069\u001b[0m     \"\"\"\n\u001b[1;32m   1070\u001b[0m     \u001b[0;31m# TODO(slebedev): Consider avoiding a copy for non-CPU or remote tensors.\u001b[0m\u001b[0;34m\u001b[0m\u001b[0;34m\u001b[0m\u001b[0;34m\u001b[0m\u001b[0m\n\u001b[0;32m-> 1071\u001b[0;31m     \u001b[0mmaybe_arr\u001b[0m \u001b[0;34m=\u001b[0m \u001b[0mself\u001b[0m\u001b[0;34m.\u001b[0m\u001b[0m_numpy\u001b[0m\u001b[0;34m(\u001b[0m\u001b[0;34m)\u001b[0m  \u001b[0;31m# pylint: disable=protected-access\u001b[0m\u001b[0;34m\u001b[0m\u001b[0;34m\u001b[0m\u001b[0m\n\u001b[0m\u001b[1;32m   1072\u001b[0m     \u001b[0;32mreturn\u001b[0m \u001b[0mmaybe_arr\u001b[0m\u001b[0;34m.\u001b[0m\u001b[0mcopy\u001b[0m\u001b[0;34m(\u001b[0m\u001b[0;34m)\u001b[0m \u001b[0;32mif\u001b[0m \u001b[0misinstance\u001b[0m\u001b[0;34m(\u001b[0m\u001b[0mmaybe_arr\u001b[0m\u001b[0;34m,\u001b[0m \u001b[0mnp\u001b[0m\u001b[0;34m.\u001b[0m\u001b[0mndarray\u001b[0m\u001b[0;34m)\u001b[0m \u001b[0;32melse\u001b[0m \u001b[0mmaybe_arr\u001b[0m\u001b[0;34m\u001b[0m\u001b[0;34m\u001b[0m\u001b[0m\n\u001b[1;32m   1073\u001b[0m \u001b[0;34m\u001b[0m\u001b[0m\n",
            "\u001b[0;32m/usr/local/lib/python3.7/dist-packages/tensorflow/python/framework/ops.py\u001b[0m in \u001b[0;36m_numpy\u001b[0;34m(self)\u001b[0m\n\u001b[1;32m   1035\u001b[0m   \u001b[0;32mdef\u001b[0m \u001b[0m_numpy\u001b[0m\u001b[0;34m(\u001b[0m\u001b[0mself\u001b[0m\u001b[0;34m)\u001b[0m\u001b[0;34m:\u001b[0m\u001b[0;34m\u001b[0m\u001b[0;34m\u001b[0m\u001b[0m\n\u001b[1;32m   1036\u001b[0m     \u001b[0;32mtry\u001b[0m\u001b[0;34m:\u001b[0m\u001b[0;34m\u001b[0m\u001b[0;34m\u001b[0m\u001b[0m\n\u001b[0;32m-> 1037\u001b[0;31m       \u001b[0;32mreturn\u001b[0m \u001b[0mself\u001b[0m\u001b[0;34m.\u001b[0m\u001b[0m_numpy_internal\u001b[0m\u001b[0;34m(\u001b[0m\u001b[0;34m)\u001b[0m\u001b[0;34m\u001b[0m\u001b[0;34m\u001b[0m\u001b[0m\n\u001b[0m\u001b[1;32m   1038\u001b[0m     \u001b[0;32mexcept\u001b[0m \u001b[0mcore\u001b[0m\u001b[0;34m.\u001b[0m\u001b[0m_NotOkStatusException\u001b[0m \u001b[0;32mas\u001b[0m \u001b[0me\u001b[0m\u001b[0;34m:\u001b[0m  \u001b[0;31m# pylint: disable=protected-access\u001b[0m\u001b[0;34m\u001b[0m\u001b[0;34m\u001b[0m\u001b[0m\n\u001b[1;32m   1039\u001b[0m       \u001b[0msix\u001b[0m\u001b[0;34m.\u001b[0m\u001b[0mraise_from\u001b[0m\u001b[0;34m(\u001b[0m\u001b[0mcore\u001b[0m\u001b[0;34m.\u001b[0m\u001b[0m_status_to_exception\u001b[0m\u001b[0;34m(\u001b[0m\u001b[0me\u001b[0m\u001b[0;34m.\u001b[0m\u001b[0mcode\u001b[0m\u001b[0;34m,\u001b[0m \u001b[0me\u001b[0m\u001b[0;34m.\u001b[0m\u001b[0mmessage\u001b[0m\u001b[0;34m)\u001b[0m\u001b[0;34m,\u001b[0m \u001b[0;32mNone\u001b[0m\u001b[0;34m)\u001b[0m  \u001b[0;31m# pylint: disable=protected-access\u001b[0m\u001b[0;34m\u001b[0m\u001b[0;34m\u001b[0m\u001b[0m\n",
            "\u001b[0;31mKeyboardInterrupt\u001b[0m: "
          ]
        }
      ]
    },
    {
      "cell_type": "code",
      "metadata": {
        "id": "8nm0JoRK2U72"
      },
      "source": [
        ""
      ],
      "execution_count": null,
      "outputs": []
    }
  ]
}