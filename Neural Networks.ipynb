{
  "nbformat": 4,
  "nbformat_minor": 0,
  "metadata": {
    "colab": {
      "name": "Neural Networks.ipynb",
      "provenance": [],
      "authorship_tag": "ABX9TyOQtcV30ASIji167Z7vUcJX",
      "include_colab_link": true
    },
    "kernelspec": {
      "name": "python3",
      "display_name": "Python 3"
    }
  },
  "cells": [
    {
      "cell_type": "markdown",
      "metadata": {
        "id": "view-in-github",
        "colab_type": "text"
      },
      "source": [
        "<a href=\"https://colab.research.google.com/github/PranavPutsa1006/Deep-Learning/blob/main/Neural%20Networks.ipynb\" target=\"_parent\"><img src=\"https://colab.research.google.com/assets/colab-badge.svg\" alt=\"Open In Colab\"/></a>"
      ]
    },
    {
      "cell_type": "markdown",
      "metadata": {
        "id": "CogUxbK4Rb9s"
      },
      "source": [
        "Linear Regression"
      ]
    },
    {
      "cell_type": "code",
      "metadata": {
        "colab": {
          "base_uri": "https://localhost:8080/",
          "height": 313
        },
        "id": "R1Q-xcdjawQL",
        "outputId": "8a9974cc-5f43-4dc8-d09c-6652d433f54d"
      },
      "source": [
        "import numpy as np\n",
        "from builtins import round\n",
        "import matplotlib.pyplot as plt\n",
        "X = np.array([63,64,66,61,69,71,71,72,72,75])\n",
        "Y = np.array([127,121,142,157,162,156,169,165,181,208])\n",
        "xmean = np.mean(X)\n",
        "ymean = np.mean(Y)\n",
        "b1_num = 0\n",
        "b1_den = 0\n",
        "\n",
        "for i in range(len(X)):\n",
        "    b1_num += (X[i]-xmean)*(Y[i]-ymean)\n",
        "    b1_den += (X[i]-xmean)**2\n",
        "\n",
        "b1 = round(b1_num/b1_den, 3)\n",
        "b0 = round(ymean - xmean * b1, 3)\n",
        "print(\"Y=\"+str(b0)+\"+\"+str(b1)+\"*x\")\n",
        "plt.xlabel(\"Weight\")\n",
        "plt.ylabel(\"Height\")\n",
        "plt.scatter(X,Y)\n",
        "plt.plot(X,b0+b1*X)"
      ],
      "execution_count": null,
      "outputs": [
        {
          "output_type": "stream",
          "text": [
            "Y=-139.766+4.365*x\n"
          ],
          "name": "stdout"
        },
        {
          "output_type": "execute_result",
          "data": {
            "text/plain": [
              "[<matplotlib.lines.Line2D at 0x7f8405b80da0>]"
            ]
          },
          "metadata": {
            "tags": []
          },
          "execution_count": 13
        },
        {
          "output_type": "display_data",
          "data": {
            "image/png": "[encoded data removed]",
            "text/plain": [
              "<Figure size 432x288 with 1 Axes>"
            ]
          },
          "metadata": {
            "tags": [],
            "needs_background": "light"
          }
        }
      ]
    },
    {
      "cell_type": "markdown",
      "metadata": {
        "id": "Ov3XrD8wagSv"
      },
      "source": [
        "Hebb's Rule"
      ]
    },
    {
      "cell_type": "code",
      "metadata": {
        "id": "NQEkDHIkaiWe"
      },
      "source": [
        "x1 = [1, 1, -1, -1]\n",
        "x2 = [1, -1, 1, -1]\n",
        "y = [1, -1, -1, -1]\n",
        "b = 0\n",
        "w1 = 0\n",
        "w2 = 0\n",
        "f = []\n",
        "for i in range(0, 4):\n",
        "    f.append(b + x1[i] * w1 + x2[i] * w2)\n",
        "\n",
        "while f != y:\n",
        "    for i in range(0, 4):\n",
        "        while f[i] != y[i]:\n",
        "            w1 = w1 + x1[i] * y[i]\n",
        "            w2 = w2 + x2[i] * y[i]\n",
        "            b = b + y[i]\n",
        "            f[i] = b + x1[i] * w1 + x2[i] * w2\n",
        "            if f[i] >= 1:\n",
        "                f[i] = 1\n",
        "            else:\n",
        "                f[i] = -1\n",
        "print(w1)\n",
        "print(w2)\n",
        "print(b)\n",
        "print(f)"
      ],
      "execution_count": null,
      "outputs": []
    },
    {
      "cell_type": "markdown",
      "metadata": {
        "id": "YNJ_wSCKRfS6"
      },
      "source": [
        "Linear Discriminant Analysis"
      ]
    },
    {
      "cell_type": "code",
      "metadata": {
        "id": "u_2sf5zERh6s"
      },
      "source": [
        ""
      ],
      "execution_count": null,
      "outputs": []
    },
    {
      "cell_type": "markdown",
      "metadata": {
        "id": "pUmlqsj0cfKU"
      },
      "source": [
        "Perceptron Network"
      ]
    },
    {
      "cell_type": "code",
      "metadata": {
        "id": "Qgv1h99AchGY"
      },
      "source": [
        "import matplotlib.pyplot as plt\n",
        "import numpy as np\n",
        "x1 = [1, 1, -1, -1]\n",
        "x2 = [1, -1, 1, -1]\n",
        "y = [1, -1, -1, -1]\n",
        "\n",
        "b = 0\n",
        "w1 = 0\n",
        "w2 = 0\n",
        "alpha=0.25\n",
        "threshold=0\n",
        "f = []\n",
        "for i in range(0, 4):\n",
        "    f.append(b + x1[i] * w1 + x2[i] * w2)\n",
        "\n",
        "while f != y:\n",
        "    for i in range(0, 4):\n",
        "        while f[i] != y[i]:\n",
        "            w1 = w1 + x1[i] * y[i]*alpha\n",
        "            w2 = w2 + x2[i] * y[i]*alpha\n",
        "            b = b + y[i]*alpha\n",
        "            f[i] = b + x1[i] * w1 + x2[i] * w2\n",
        "            if f[i] >= threshold:\n",
        "                f[i] = 1\n",
        "            else:\n",
        "                f[i] = -1\n",
        "print(\"w1=\",w1)\n",
        "print(\"w2=\",w2)\n",
        "print(\"b=\",b)\n",
        "print(\"f=\",f)\n",
        "x1=np.array(x1)\n",
        "Y=(-b-w1*x1)/w2\n",
        "plt.plot(x1,Y)\n",
        "plt.plot(x1*2,[0]*4)\n",
        "plt.plot([0]*4,x1*2)\n",
        "plt.show()"
      ],
      "execution_count": null,
      "outputs": []
    },
    {
      "cell_type": "markdown",
      "metadata": {
        "id": "V-VKjRmnR6M4"
      },
      "source": [
        "Back Propogation Network"
      ]
    },
    {
      "cell_type": "code",
      "metadata": {
        "colab": {
          "base_uri": "https://localhost:8080/"
        },
        "id": "WOOROfOdSC7-",
        "outputId": "97604bd3-3e08-4379-d0f7-4f2064c3e1c1"
      },
      "source": [
        "import numpy as np\n",
        "import matplotlib.pyplot as plt\n",
        "\n",
        "v11, v21, v01 = input(\"Enter v11, v21, v01:\\n\").split()\n",
        "v12, v22, v02 = input(\"Enter v12, v22, v02:\\n\").split()\n",
        "w1, w2, w0 = input(\"Enter w1, w2, w0:\\n\").split()"
      ],
      "execution_count": null,
      "outputs": [
        {
          "output_type": "stream",
          "text": [
            "Enter v11, v21, v01:\n",
            "0.6 -0.1 0.3\n",
            "0.6\n"
          ],
          "name": "stdout"
        }
      ]
    }
  ]
}